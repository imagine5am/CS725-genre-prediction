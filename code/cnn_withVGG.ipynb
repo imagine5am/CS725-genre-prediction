{
  "nbformat": 4,
  "nbformat_minor": 0,
  "metadata": {
    "colab": {
      "name": "cnn_withVGG.ipynb",
      "provenance": [],
      "collapsed_sections": [],
      "machine_shape": "hm"
    },
    "kernelspec": {
      "name": "python3",
      "display_name": "Python 3"
    },
    "accelerator": "GPU"
  },
  "cells": [
    {
      "cell_type": "code",
      "metadata": {
        "id": "mPWM0vCE2q8b",
        "colab_type": "code",
        "colab": {}
      },
      "source": [
        "import pandas as pd\n",
        "import numpy as np\n",
        "import cv2\n",
        "\n",
        "import matplotlib.pyplot as plt\n",
        "% matplotlib inline"
      ],
      "execution_count": 0,
      "outputs": []
    },
    {
      "cell_type": "code",
      "metadata": {
        "id": "SwjftPZy2r6W",
        "colab_type": "code",
        "colab": {
          "base_uri": "https://localhost:8080/",
          "height": 104
        },
        "outputId": "26a0c3aa-9143-4fe7-d38f-487d91cc5140"
      },
      "source": [
        "! git clone https://github.com/srijonsarkar/ml-dataset"
      ],
      "execution_count": 31,
      "outputs": [
        {
          "output_type": "stream",
          "text": [
            "Cloning into 'ml-dataset'...\n",
            "remote: Enumerating objects: 43337, done.\u001b[K\n",
            "remote: Total 43337 (delta 0), reused 0 (delta 0), pack-reused 43337\u001b[K\n",
            "Receiving objects: 100% (43337/43337), 397.95 MiB | 34.02 MiB/s, done.\n",
            "Checking out files: 100% (43403/43403), done.\n"
          ],
          "name": "stdout"
        }
      ]
    },
    {
      "cell_type": "code",
      "metadata": {
        "id": "ztzLH7Eh2sHo",
        "colab_type": "code",
        "outputId": "7162e276-dc6a-4eea-ed5b-4c4af3a92c4f",
        "colab": {
          "base_uri": "https://localhost:8080/",
          "height": 363
        }
      },
      "source": [
        "df = pd.read_csv('movies_metadata_modded.csv')\n",
        "df.head(10)"
      ],
      "execution_count": 6,
      "outputs": [
        {
          "output_type": "execute_result",
          "data": {
            "text/html": [
              "<div>\n",
              "<style scoped>\n",
              "    .dataframe tbody tr th:only-of-type {\n",
              "        vertical-align: middle;\n",
              "    }\n",
              "\n",
              "    .dataframe tbody tr th {\n",
              "        vertical-align: top;\n",
              "    }\n",
              "\n",
              "    .dataframe thead th {\n",
              "        text-align: right;\n",
              "    }\n",
              "</style>\n",
              "<table border=\"1\" class=\"dataframe\">\n",
              "  <thead>\n",
              "    <tr style=\"text-align: right;\">\n",
              "      <th></th>\n",
              "      <th>genres</th>\n",
              "      <th>id</th>\n",
              "      <th>imdb_id</th>\n",
              "      <th>original_language</th>\n",
              "      <th>release_date</th>\n",
              "    </tr>\n",
              "  </thead>\n",
              "  <tbody>\n",
              "    <tr>\n",
              "      <th>0</th>\n",
              "      <td>[{'id': 99, 'name': 'Documentary'}]</td>\n",
              "      <td>315946</td>\n",
              "      <td>tt3155794</td>\n",
              "      <td>xx</td>\n",
              "      <td>1874-12-09</td>\n",
              "    </tr>\n",
              "    <tr>\n",
              "      <th>1</th>\n",
              "      <td>[{'id': 99, 'name': 'Documentary'}]</td>\n",
              "      <td>194079</td>\n",
              "      <td>tt2221420</td>\n",
              "      <td>en</td>\n",
              "      <td>1878-06-14</td>\n",
              "    </tr>\n",
              "    <tr>\n",
              "      <th>2</th>\n",
              "      <td>[{'id': 99, 'name': 'Documentary'}]</td>\n",
              "      <td>426903</td>\n",
              "      <td>tt5459794</td>\n",
              "      <td>en</td>\n",
              "      <td>1883-11-19</td>\n",
              "    </tr>\n",
              "    <tr>\n",
              "      <th>3</th>\n",
              "      <td>[{'id': 99, 'name': 'Documentary'}]</td>\n",
              "      <td>159897</td>\n",
              "      <td>tt2075247</td>\n",
              "      <td>xx</td>\n",
              "      <td>1887-08-18</td>\n",
              "    </tr>\n",
              "    <tr>\n",
              "      <th>4</th>\n",
              "      <td>[{'id': 99, 'name': 'Documentary'}]</td>\n",
              "      <td>96882</td>\n",
              "      <td>tt1758563</td>\n",
              "      <td>xx</td>\n",
              "      <td>1888-01-01</td>\n",
              "    </tr>\n",
              "    <tr>\n",
              "      <th>5</th>\n",
              "      <td>[{'id': 99, 'name': 'Documentary'}]</td>\n",
              "      <td>16464</td>\n",
              "      <td>tt0343112</td>\n",
              "      <td>xx</td>\n",
              "      <td>1888-10-15</td>\n",
              "    </tr>\n",
              "    <tr>\n",
              "      <th>6</th>\n",
              "      <td>[{'id': 99, 'name': 'Documentary'}]</td>\n",
              "      <td>33316</td>\n",
              "      <td>tt1202028</td>\n",
              "      <td>xx</td>\n",
              "      <td>1890-01-01</td>\n",
              "    </tr>\n",
              "    <tr>\n",
              "      <th>7</th>\n",
              "      <td>[]</td>\n",
              "      <td>386743</td>\n",
              "      <td>tt5285442</td>\n",
              "      <td>en</td>\n",
              "      <td>1890-03-09</td>\n",
              "    </tr>\n",
              "    <tr>\n",
              "      <th>8</th>\n",
              "      <td>[{'id': 35, 'name': 'Comedy'}]</td>\n",
              "      <td>32571</td>\n",
              "      <td>tt0361921</td>\n",
              "      <td>en</td>\n",
              "      <td>1890-11-21</td>\n",
              "    </tr>\n",
              "    <tr>\n",
              "      <th>9</th>\n",
              "      <td>[]</td>\n",
              "      <td>33315</td>\n",
              "      <td>tt0416046</td>\n",
              "      <td>xx</td>\n",
              "      <td>1890-11-21</td>\n",
              "    </tr>\n",
              "  </tbody>\n",
              "</table>\n",
              "</div>"
            ],
            "text/plain": [
              "                                genres      id  ... original_language release_date\n",
              "0  [{'id': 99, 'name': 'Documentary'}]  315946  ...                xx   1874-12-09\n",
              "1  [{'id': 99, 'name': 'Documentary'}]  194079  ...                en   1878-06-14\n",
              "2  [{'id': 99, 'name': 'Documentary'}]  426903  ...                en   1883-11-19\n",
              "3  [{'id': 99, 'name': 'Documentary'}]  159897  ...                xx   1887-08-18\n",
              "4  [{'id': 99, 'name': 'Documentary'}]   96882  ...                xx   1888-01-01\n",
              "5  [{'id': 99, 'name': 'Documentary'}]   16464  ...                xx   1888-10-15\n",
              "6  [{'id': 99, 'name': 'Documentary'}]   33316  ...                xx   1890-01-01\n",
              "7                                   []  386743  ...                en   1890-03-09\n",
              "8       [{'id': 35, 'name': 'Comedy'}]   32571  ...                en   1890-11-21\n",
              "9                                   []   33315  ...                xx   1890-11-21\n",
              "\n",
              "[10 rows x 5 columns]"
            ]
          },
          "metadata": {
            "tags": []
          },
          "execution_count": 6
        }
      ]
    },
    {
      "cell_type": "code",
      "metadata": {
        "id": "DpguY7t_2sM_",
        "colab_type": "code",
        "outputId": "ac7ba0e7-3878-4168-c3df-f913005529c2",
        "colab": {
          "base_uri": "https://localhost:8080/",
          "height": 34
        }
      },
      "source": [
        "# keeping only english movies in dataset\n",
        "df = df[df.original_language=='en'].copy()\n",
        "df.shape"
      ],
      "execution_count": 7,
      "outputs": [
        {
          "output_type": "execute_result",
          "data": {
            "text/plain": [
              "(32111, 5)"
            ]
          },
          "metadata": {
            "tags": []
          },
          "execution_count": 7
        }
      ]
    },
    {
      "cell_type": "code",
      "metadata": {
        "id": "4-0IsYc62sSm",
        "colab_type": "code",
        "colab": {}
      },
      "source": [
        "# have to remove movies released before 1990s\n",
        "df.release_date = df.release_date.astype('str')\n",
        "\n",
        "df.release_date = df.release_date.apply(lambda x : x[:4])"
      ],
      "execution_count": 0,
      "outputs": []
    },
    {
      "cell_type": "code",
      "metadata": {
        "id": "vp2rH9ZOINL2",
        "colab_type": "code",
        "outputId": "d6af4d49-fcdb-4e6c-bb6b-40a8f9fd5245",
        "colab": {
          "base_uri": "https://localhost:8080/",
          "height": 660
        }
      },
      "source": [
        "df.release_date = df.release_date.astype('int16')\n",
        "df2 = df[df.release_date >= 1990].copy()\n",
        "df2.head(20)"
      ],
      "execution_count": 9,
      "outputs": [
        {
          "output_type": "execute_result",
          "data": {
            "text/html": [
              "<div>\n",
              "<style scoped>\n",
              "    .dataframe tbody tr th:only-of-type {\n",
              "        vertical-align: middle;\n",
              "    }\n",
              "\n",
              "    .dataframe tbody tr th {\n",
              "        vertical-align: top;\n",
              "    }\n",
              "\n",
              "    .dataframe thead th {\n",
              "        text-align: right;\n",
              "    }\n",
              "</style>\n",
              "<table border=\"1\" class=\"dataframe\">\n",
              "  <thead>\n",
              "    <tr style=\"text-align: right;\">\n",
              "      <th></th>\n",
              "      <th>genres</th>\n",
              "      <th>id</th>\n",
              "      <th>imdb_id</th>\n",
              "      <th>original_language</th>\n",
              "      <th>release_date</th>\n",
              "    </tr>\n",
              "  </thead>\n",
              "  <tbody>\n",
              "    <tr>\n",
              "      <th>15648</th>\n",
              "      <td>[{'id': 35, 'name': 'Comedy'}, {'id': 18, 'nam...</td>\n",
              "      <td>44281</td>\n",
              "      <td>tt0090665</td>\n",
              "      <td>en</td>\n",
              "      <td>1990</td>\n",
              "    </tr>\n",
              "    <tr>\n",
              "      <th>15649</th>\n",
              "      <td>[{'id': 35, 'name': 'Comedy'}, {'id': 18, 'nam...</td>\n",
              "      <td>41927</td>\n",
              "      <td>tt0100822</td>\n",
              "      <td>en</td>\n",
              "      <td>1990</td>\n",
              "    </tr>\n",
              "    <tr>\n",
              "      <th>15650</th>\n",
              "      <td>[{'id': 36, 'name': 'History'}, {'id': 18, 'na...</td>\n",
              "      <td>8996</td>\n",
              "      <td>tt0099776</td>\n",
              "      <td>en</td>\n",
              "      <td>1990</td>\n",
              "    </tr>\n",
              "    <tr>\n",
              "      <th>15651</th>\n",
              "      <td>[{'id': 35, 'name': 'Comedy'}, {'id': 878, 'na...</td>\n",
              "      <td>57476</td>\n",
              "      <td>tt0100670</td>\n",
              "      <td>en</td>\n",
              "      <td>1990</td>\n",
              "    </tr>\n",
              "    <tr>\n",
              "      <th>15652</th>\n",
              "      <td>[{'id': 99, 'name': 'Documentary'}]</td>\n",
              "      <td>37447</td>\n",
              "      <td>tt0099121</td>\n",
              "      <td>en</td>\n",
              "      <td>1990</td>\n",
              "    </tr>\n",
              "    <tr>\n",
              "      <th>15653</th>\n",
              "      <td>[{'id': 10749, 'name': 'Romance'}, {'id': 53, ...</td>\n",
              "      <td>41925</td>\n",
              "      <td>tt0099292</td>\n",
              "      <td>en</td>\n",
              "      <td>1990</td>\n",
              "    </tr>\n",
              "    <tr>\n",
              "      <th>15655</th>\n",
              "      <td>[{'id': 27, 'name': 'Horror'}]</td>\n",
              "      <td>67515</td>\n",
              "      <td>tt0100079</td>\n",
              "      <td>en</td>\n",
              "      <td>1990</td>\n",
              "    </tr>\n",
              "    <tr>\n",
              "      <th>15658</th>\n",
              "      <td>[{'id': 10402, 'name': 'Music'}]</td>\n",
              "      <td>44257</td>\n",
              "      <td>tt0099844</td>\n",
              "      <td>en</td>\n",
              "      <td>1990</td>\n",
              "    </tr>\n",
              "    <tr>\n",
              "      <th>15659</th>\n",
              "      <td>[]</td>\n",
              "      <td>40959</td>\n",
              "      <td>tt0243199</td>\n",
              "      <td>en</td>\n",
              "      <td>1990</td>\n",
              "    </tr>\n",
              "    <tr>\n",
              "      <th>15661</th>\n",
              "      <td>[{'id': 28, 'name': 'Action'}, {'id': 53, 'nam...</td>\n",
              "      <td>13293</td>\n",
              "      <td>tt0099260</td>\n",
              "      <td>en</td>\n",
              "      <td>1990</td>\n",
              "    </tr>\n",
              "    <tr>\n",
              "      <th>15663</th>\n",
              "      <td>[{'id': 18, 'name': 'Drama'}, {'id': 10749, 'n...</td>\n",
              "      <td>41810</td>\n",
              "      <td>tt0099017</td>\n",
              "      <td>en</td>\n",
              "      <td>1990</td>\n",
              "    </tr>\n",
              "    <tr>\n",
              "      <th>15664</th>\n",
              "      <td>[{'id': 35, 'name': 'Comedy'}]</td>\n",
              "      <td>21811</td>\n",
              "      <td>tt0102940</td>\n",
              "      <td>en</td>\n",
              "      <td>1990</td>\n",
              "    </tr>\n",
              "    <tr>\n",
              "      <th>15665</th>\n",
              "      <td>[{'id': 16, 'name': 'Animation'}, {'id': 10751...</td>\n",
              "      <td>13759</td>\n",
              "      <td>tt0100281</td>\n",
              "      <td>en</td>\n",
              "      <td>1990</td>\n",
              "    </tr>\n",
              "    <tr>\n",
              "      <th>15666</th>\n",
              "      <td>[{'id': 18, 'name': 'Drama'}]</td>\n",
              "      <td>91138</td>\n",
              "      <td>tt0099796</td>\n",
              "      <td>en</td>\n",
              "      <td>1990</td>\n",
              "    </tr>\n",
              "    <tr>\n",
              "      <th>15667</th>\n",
              "      <td>[{'id': 878, 'name': 'Science Fiction'}]</td>\n",
              "      <td>30647</td>\n",
              "      <td>tt0098962</td>\n",
              "      <td>en</td>\n",
              "      <td>1990</td>\n",
              "    </tr>\n",
              "    <tr>\n",
              "      <th>15669</th>\n",
              "      <td>[{'id': 53, 'name': 'Thriller'}, {'id': 28, 'n...</td>\n",
              "      <td>31942</td>\n",
              "      <td>tt0100148</td>\n",
              "      <td>en</td>\n",
              "      <td>1990</td>\n",
              "    </tr>\n",
              "    <tr>\n",
              "      <th>15670</th>\n",
              "      <td>[]</td>\n",
              "      <td>251489</td>\n",
              "      <td>tt0099463</td>\n",
              "      <td>en</td>\n",
              "      <td>1990</td>\n",
              "    </tr>\n",
              "    <tr>\n",
              "      <th>15672</th>\n",
              "      <td>[{'id': 12, 'name': 'Adventure'}, {'id': 14, '...</td>\n",
              "      <td>5086</td>\n",
              "      <td>tt0100448</td>\n",
              "      <td>en</td>\n",
              "      <td>1990</td>\n",
              "    </tr>\n",
              "    <tr>\n",
              "      <th>15675</th>\n",
              "      <td>[{'id': 14, 'name': 'Fantasy'}, {'id': 878, 'n...</td>\n",
              "      <td>31647</td>\n",
              "      <td>tt0102569</td>\n",
              "      <td>en</td>\n",
              "      <td>1990</td>\n",
              "    </tr>\n",
              "    <tr>\n",
              "      <th>15681</th>\n",
              "      <td>[{'id': 878, 'name': 'Science Fiction'}, {'id'...</td>\n",
              "      <td>24862</td>\n",
              "      <td>tt0099313</td>\n",
              "      <td>en</td>\n",
              "      <td>1990</td>\n",
              "    </tr>\n",
              "  </tbody>\n",
              "</table>\n",
              "</div>"
            ],
            "text/plain": [
              "                                                  genres  ...  release_date\n",
              "15648  [{'id': 35, 'name': 'Comedy'}, {'id': 18, 'nam...  ...          1990\n",
              "15649  [{'id': 35, 'name': 'Comedy'}, {'id': 18, 'nam...  ...          1990\n",
              "15650  [{'id': 36, 'name': 'History'}, {'id': 18, 'na...  ...          1990\n",
              "15651  [{'id': 35, 'name': 'Comedy'}, {'id': 878, 'na...  ...          1990\n",
              "15652                [{'id': 99, 'name': 'Documentary'}]  ...          1990\n",
              "15653  [{'id': 10749, 'name': 'Romance'}, {'id': 53, ...  ...          1990\n",
              "15655                     [{'id': 27, 'name': 'Horror'}]  ...          1990\n",
              "15658                   [{'id': 10402, 'name': 'Music'}]  ...          1990\n",
              "15659                                                 []  ...          1990\n",
              "15661  [{'id': 28, 'name': 'Action'}, {'id': 53, 'nam...  ...          1990\n",
              "15663  [{'id': 18, 'name': 'Drama'}, {'id': 10749, 'n...  ...          1990\n",
              "15664                     [{'id': 35, 'name': 'Comedy'}]  ...          1990\n",
              "15665  [{'id': 16, 'name': 'Animation'}, {'id': 10751...  ...          1990\n",
              "15666                      [{'id': 18, 'name': 'Drama'}]  ...          1990\n",
              "15667           [{'id': 878, 'name': 'Science Fiction'}]  ...          1990\n",
              "15669  [{'id': 53, 'name': 'Thriller'}, {'id': 28, 'n...  ...          1990\n",
              "15670                                                 []  ...          1990\n",
              "15672  [{'id': 12, 'name': 'Adventure'}, {'id': 14, '...  ...          1990\n",
              "15675  [{'id': 14, 'name': 'Fantasy'}, {'id': 878, 'n...  ...          1990\n",
              "15681  [{'id': 878, 'name': 'Science Fiction'}, {'id'...  ...          1990\n",
              "\n",
              "[20 rows x 5 columns]"
            ]
          },
          "metadata": {
            "tags": []
          },
          "execution_count": 9
        }
      ]
    },
    {
      "cell_type": "code",
      "metadata": {
        "id": "a8O04x67-x45",
        "colab_type": "code",
        "outputId": "1ef4077f-b81e-4452-c6ed-a5017df5a89b",
        "colab": {
          "base_uri": "https://localhost:8080/",
          "height": 17
        }
      },
      "source": [
        "df.dropna(inplace=True)\n",
        "df.shape"
      ],
      "execution_count": 10,
      "outputs": [
        {
          "output_type": "execute_result",
          "data": {
            "text/plain": [
              "(32101, 5)"
            ]
          },
          "metadata": {
            "tags": []
          },
          "execution_count": 10
        }
      ]
    },
    {
      "cell_type": "code",
      "metadata": {
        "id": "tNnpcum72sd_",
        "colab_type": "code",
        "outputId": "77a1104e-1dd6-41b9-9800-ba43e0a57cb1",
        "colab": {
          "base_uri": "https://localhost:8080/",
          "height": 346
        }
      },
      "source": [
        "df2.head(10)"
      ],
      "execution_count": 11,
      "outputs": [
        {
          "output_type": "execute_result",
          "data": {
            "text/html": [
              "<div>\n",
              "<style scoped>\n",
              "    .dataframe tbody tr th:only-of-type {\n",
              "        vertical-align: middle;\n",
              "    }\n",
              "\n",
              "    .dataframe tbody tr th {\n",
              "        vertical-align: top;\n",
              "    }\n",
              "\n",
              "    .dataframe thead th {\n",
              "        text-align: right;\n",
              "    }\n",
              "</style>\n",
              "<table border=\"1\" class=\"dataframe\">\n",
              "  <thead>\n",
              "    <tr style=\"text-align: right;\">\n",
              "      <th></th>\n",
              "      <th>genres</th>\n",
              "      <th>id</th>\n",
              "      <th>imdb_id</th>\n",
              "      <th>original_language</th>\n",
              "      <th>release_date</th>\n",
              "    </tr>\n",
              "  </thead>\n",
              "  <tbody>\n",
              "    <tr>\n",
              "      <th>15648</th>\n",
              "      <td>[{'id': 35, 'name': 'Comedy'}, {'id': 18, 'nam...</td>\n",
              "      <td>44281</td>\n",
              "      <td>tt0090665</td>\n",
              "      <td>en</td>\n",
              "      <td>1990</td>\n",
              "    </tr>\n",
              "    <tr>\n",
              "      <th>15649</th>\n",
              "      <td>[{'id': 35, 'name': 'Comedy'}, {'id': 18, 'nam...</td>\n",
              "      <td>41927</td>\n",
              "      <td>tt0100822</td>\n",
              "      <td>en</td>\n",
              "      <td>1990</td>\n",
              "    </tr>\n",
              "    <tr>\n",
              "      <th>15650</th>\n",
              "      <td>[{'id': 36, 'name': 'History'}, {'id': 18, 'na...</td>\n",
              "      <td>8996</td>\n",
              "      <td>tt0099776</td>\n",
              "      <td>en</td>\n",
              "      <td>1990</td>\n",
              "    </tr>\n",
              "    <tr>\n",
              "      <th>15651</th>\n",
              "      <td>[{'id': 35, 'name': 'Comedy'}, {'id': 878, 'na...</td>\n",
              "      <td>57476</td>\n",
              "      <td>tt0100670</td>\n",
              "      <td>en</td>\n",
              "      <td>1990</td>\n",
              "    </tr>\n",
              "    <tr>\n",
              "      <th>15652</th>\n",
              "      <td>[{'id': 99, 'name': 'Documentary'}]</td>\n",
              "      <td>37447</td>\n",
              "      <td>tt0099121</td>\n",
              "      <td>en</td>\n",
              "      <td>1990</td>\n",
              "    </tr>\n",
              "    <tr>\n",
              "      <th>15653</th>\n",
              "      <td>[{'id': 10749, 'name': 'Romance'}, {'id': 53, ...</td>\n",
              "      <td>41925</td>\n",
              "      <td>tt0099292</td>\n",
              "      <td>en</td>\n",
              "      <td>1990</td>\n",
              "    </tr>\n",
              "    <tr>\n",
              "      <th>15655</th>\n",
              "      <td>[{'id': 27, 'name': 'Horror'}]</td>\n",
              "      <td>67515</td>\n",
              "      <td>tt0100079</td>\n",
              "      <td>en</td>\n",
              "      <td>1990</td>\n",
              "    </tr>\n",
              "    <tr>\n",
              "      <th>15658</th>\n",
              "      <td>[{'id': 10402, 'name': 'Music'}]</td>\n",
              "      <td>44257</td>\n",
              "      <td>tt0099844</td>\n",
              "      <td>en</td>\n",
              "      <td>1990</td>\n",
              "    </tr>\n",
              "    <tr>\n",
              "      <th>15659</th>\n",
              "      <td>[]</td>\n",
              "      <td>40959</td>\n",
              "      <td>tt0243199</td>\n",
              "      <td>en</td>\n",
              "      <td>1990</td>\n",
              "    </tr>\n",
              "    <tr>\n",
              "      <th>15661</th>\n",
              "      <td>[{'id': 28, 'name': 'Action'}, {'id': 53, 'nam...</td>\n",
              "      <td>13293</td>\n",
              "      <td>tt0099260</td>\n",
              "      <td>en</td>\n",
              "      <td>1990</td>\n",
              "    </tr>\n",
              "  </tbody>\n",
              "</table>\n",
              "</div>"
            ],
            "text/plain": [
              "                                                  genres  ...  release_date\n",
              "15648  [{'id': 35, 'name': 'Comedy'}, {'id': 18, 'nam...  ...          1990\n",
              "15649  [{'id': 35, 'name': 'Comedy'}, {'id': 18, 'nam...  ...          1990\n",
              "15650  [{'id': 36, 'name': 'History'}, {'id': 18, 'na...  ...          1990\n",
              "15651  [{'id': 35, 'name': 'Comedy'}, {'id': 878, 'na...  ...          1990\n",
              "15652                [{'id': 99, 'name': 'Documentary'}]  ...          1990\n",
              "15653  [{'id': 10749, 'name': 'Romance'}, {'id': 53, ...  ...          1990\n",
              "15655                     [{'id': 27, 'name': 'Horror'}]  ...          1990\n",
              "15658                   [{'id': 10402, 'name': 'Music'}]  ...          1990\n",
              "15659                                                 []  ...          1990\n",
              "15661  [{'id': 28, 'name': 'Action'}, {'id': 53, 'nam...  ...          1990\n",
              "\n",
              "[10 rows x 5 columns]"
            ]
          },
          "metadata": {
            "tags": []
          },
          "execution_count": 11
        }
      ]
    },
    {
      "cell_type": "code",
      "metadata": {
        "id": "fduz3FCn70Oh",
        "colab_type": "code",
        "outputId": "3cf0f9b9-4e69-4dc2-a134-4f63a60a742c",
        "colab": {
          "base_uri": "https://localhost:8080/",
          "height": 189
        }
      },
      "source": [
        "df2.reset_index(inplace=True)\n",
        "df2.head()"
      ],
      "execution_count": 12,
      "outputs": [
        {
          "output_type": "execute_result",
          "data": {
            "text/html": [
              "<div>\n",
              "<style scoped>\n",
              "    .dataframe tbody tr th:only-of-type {\n",
              "        vertical-align: middle;\n",
              "    }\n",
              "\n",
              "    .dataframe tbody tr th {\n",
              "        vertical-align: top;\n",
              "    }\n",
              "\n",
              "    .dataframe thead th {\n",
              "        text-align: right;\n",
              "    }\n",
              "</style>\n",
              "<table border=\"1\" class=\"dataframe\">\n",
              "  <thead>\n",
              "    <tr style=\"text-align: right;\">\n",
              "      <th></th>\n",
              "      <th>index</th>\n",
              "      <th>genres</th>\n",
              "      <th>id</th>\n",
              "      <th>imdb_id</th>\n",
              "      <th>original_language</th>\n",
              "      <th>release_date</th>\n",
              "    </tr>\n",
              "  </thead>\n",
              "  <tbody>\n",
              "    <tr>\n",
              "      <th>0</th>\n",
              "      <td>15648</td>\n",
              "      <td>[{'id': 35, 'name': 'Comedy'}, {'id': 18, 'nam...</td>\n",
              "      <td>44281</td>\n",
              "      <td>tt0090665</td>\n",
              "      <td>en</td>\n",
              "      <td>1990</td>\n",
              "    </tr>\n",
              "    <tr>\n",
              "      <th>1</th>\n",
              "      <td>15649</td>\n",
              "      <td>[{'id': 35, 'name': 'Comedy'}, {'id': 18, 'nam...</td>\n",
              "      <td>41927</td>\n",
              "      <td>tt0100822</td>\n",
              "      <td>en</td>\n",
              "      <td>1990</td>\n",
              "    </tr>\n",
              "    <tr>\n",
              "      <th>2</th>\n",
              "      <td>15650</td>\n",
              "      <td>[{'id': 36, 'name': 'History'}, {'id': 18, 'na...</td>\n",
              "      <td>8996</td>\n",
              "      <td>tt0099776</td>\n",
              "      <td>en</td>\n",
              "      <td>1990</td>\n",
              "    </tr>\n",
              "    <tr>\n",
              "      <th>3</th>\n",
              "      <td>15651</td>\n",
              "      <td>[{'id': 35, 'name': 'Comedy'}, {'id': 878, 'na...</td>\n",
              "      <td>57476</td>\n",
              "      <td>tt0100670</td>\n",
              "      <td>en</td>\n",
              "      <td>1990</td>\n",
              "    </tr>\n",
              "    <tr>\n",
              "      <th>4</th>\n",
              "      <td>15652</td>\n",
              "      <td>[{'id': 99, 'name': 'Documentary'}]</td>\n",
              "      <td>37447</td>\n",
              "      <td>tt0099121</td>\n",
              "      <td>en</td>\n",
              "      <td>1990</td>\n",
              "    </tr>\n",
              "  </tbody>\n",
              "</table>\n",
              "</div>"
            ],
            "text/plain": [
              "   index  ... release_date\n",
              "0  15648  ...         1990\n",
              "1  15649  ...         1990\n",
              "2  15650  ...         1990\n",
              "3  15651  ...         1990\n",
              "4  15652  ...         1990\n",
              "\n",
              "[5 rows x 6 columns]"
            ]
          },
          "metadata": {
            "tags": []
          },
          "execution_count": 12
        }
      ]
    },
    {
      "cell_type": "code",
      "metadata": {
        "id": "ZtSOLcb370L8",
        "colab_type": "code",
        "outputId": "b64b1c3a-e586-4fdc-9fd3-8e3567532e67",
        "colab": {
          "base_uri": "https://localhost:8080/",
          "height": 189
        }
      },
      "source": [
        "df2.drop('index', axis=1, inplace=True)\n",
        "df2.head()"
      ],
      "execution_count": 13,
      "outputs": [
        {
          "output_type": "execute_result",
          "data": {
            "text/html": [
              "<div>\n",
              "<style scoped>\n",
              "    .dataframe tbody tr th:only-of-type {\n",
              "        vertical-align: middle;\n",
              "    }\n",
              "\n",
              "    .dataframe tbody tr th {\n",
              "        vertical-align: top;\n",
              "    }\n",
              "\n",
              "    .dataframe thead th {\n",
              "        text-align: right;\n",
              "    }\n",
              "</style>\n",
              "<table border=\"1\" class=\"dataframe\">\n",
              "  <thead>\n",
              "    <tr style=\"text-align: right;\">\n",
              "      <th></th>\n",
              "      <th>genres</th>\n",
              "      <th>id</th>\n",
              "      <th>imdb_id</th>\n",
              "      <th>original_language</th>\n",
              "      <th>release_date</th>\n",
              "    </tr>\n",
              "  </thead>\n",
              "  <tbody>\n",
              "    <tr>\n",
              "      <th>0</th>\n",
              "      <td>[{'id': 35, 'name': 'Comedy'}, {'id': 18, 'nam...</td>\n",
              "      <td>44281</td>\n",
              "      <td>tt0090665</td>\n",
              "      <td>en</td>\n",
              "      <td>1990</td>\n",
              "    </tr>\n",
              "    <tr>\n",
              "      <th>1</th>\n",
              "      <td>[{'id': 35, 'name': 'Comedy'}, {'id': 18, 'nam...</td>\n",
              "      <td>41927</td>\n",
              "      <td>tt0100822</td>\n",
              "      <td>en</td>\n",
              "      <td>1990</td>\n",
              "    </tr>\n",
              "    <tr>\n",
              "      <th>2</th>\n",
              "      <td>[{'id': 36, 'name': 'History'}, {'id': 18, 'na...</td>\n",
              "      <td>8996</td>\n",
              "      <td>tt0099776</td>\n",
              "      <td>en</td>\n",
              "      <td>1990</td>\n",
              "    </tr>\n",
              "    <tr>\n",
              "      <th>3</th>\n",
              "      <td>[{'id': 35, 'name': 'Comedy'}, {'id': 878, 'na...</td>\n",
              "      <td>57476</td>\n",
              "      <td>tt0100670</td>\n",
              "      <td>en</td>\n",
              "      <td>1990</td>\n",
              "    </tr>\n",
              "    <tr>\n",
              "      <th>4</th>\n",
              "      <td>[{'id': 99, 'name': 'Documentary'}]</td>\n",
              "      <td>37447</td>\n",
              "      <td>tt0099121</td>\n",
              "      <td>en</td>\n",
              "      <td>1990</td>\n",
              "    </tr>\n",
              "  </tbody>\n",
              "</table>\n",
              "</div>"
            ],
            "text/plain": [
              "                                              genres  ...  release_date\n",
              "0  [{'id': 35, 'name': 'Comedy'}, {'id': 18, 'nam...  ...          1990\n",
              "1  [{'id': 35, 'name': 'Comedy'}, {'id': 18, 'nam...  ...          1990\n",
              "2  [{'id': 36, 'name': 'History'}, {'id': 18, 'na...  ...          1990\n",
              "3  [{'id': 35, 'name': 'Comedy'}, {'id': 878, 'na...  ...          1990\n",
              "4                [{'id': 99, 'name': 'Documentary'}]  ...          1990\n",
              "\n",
              "[5 rows x 5 columns]"
            ]
          },
          "metadata": {
            "tags": []
          },
          "execution_count": 13
        }
      ]
    },
    {
      "cell_type": "code",
      "metadata": {
        "id": "tKfEnAcS85ID",
        "colab_type": "code",
        "outputId": "2cdb1d4e-cd54-4d95-9df9-352a301267cb",
        "colab": {
          "base_uri": "https://localhost:8080/",
          "height": 17
        }
      },
      "source": [
        "# remove duplicate rows from df2\n",
        "\n",
        "df2.drop_duplicates('imdb_id', inplace=True)\n",
        "df2.shape"
      ],
      "execution_count": 14,
      "outputs": [
        {
          "output_type": "execute_result",
          "data": {
            "text/plain": [
              "(20896, 5)"
            ]
          },
          "metadata": {
            "tags": []
          },
          "execution_count": 14
        }
      ]
    },
    {
      "cell_type": "code",
      "metadata": {
        "id": "IsfMxhca_Nxx",
        "colab_type": "code",
        "colab": {}
      },
      "source": [
        "df2.reset_index(inplace=True)"
      ],
      "execution_count": 0,
      "outputs": []
    },
    {
      "cell_type": "code",
      "metadata": {
        "id": "66byHhm9_N36",
        "colab_type": "code",
        "outputId": "c6b0d4e0-094c-4d9b-a2b8-4fc5aa303b85",
        "colab": {
          "base_uri": "https://localhost:8080/",
          "height": 189
        }
      },
      "source": [
        "df2.drop('index',axis=1,inplace=True)\n",
        "df2.head()"
      ],
      "execution_count": 16,
      "outputs": [
        {
          "output_type": "execute_result",
          "data": {
            "text/html": [
              "<div>\n",
              "<style scoped>\n",
              "    .dataframe tbody tr th:only-of-type {\n",
              "        vertical-align: middle;\n",
              "    }\n",
              "\n",
              "    .dataframe tbody tr th {\n",
              "        vertical-align: top;\n",
              "    }\n",
              "\n",
              "    .dataframe thead th {\n",
              "        text-align: right;\n",
              "    }\n",
              "</style>\n",
              "<table border=\"1\" class=\"dataframe\">\n",
              "  <thead>\n",
              "    <tr style=\"text-align: right;\">\n",
              "      <th></th>\n",
              "      <th>genres</th>\n",
              "      <th>id</th>\n",
              "      <th>imdb_id</th>\n",
              "      <th>original_language</th>\n",
              "      <th>release_date</th>\n",
              "    </tr>\n",
              "  </thead>\n",
              "  <tbody>\n",
              "    <tr>\n",
              "      <th>0</th>\n",
              "      <td>[{'id': 35, 'name': 'Comedy'}, {'id': 18, 'nam...</td>\n",
              "      <td>44281</td>\n",
              "      <td>tt0090665</td>\n",
              "      <td>en</td>\n",
              "      <td>1990</td>\n",
              "    </tr>\n",
              "    <tr>\n",
              "      <th>1</th>\n",
              "      <td>[{'id': 35, 'name': 'Comedy'}, {'id': 18, 'nam...</td>\n",
              "      <td>41927</td>\n",
              "      <td>tt0100822</td>\n",
              "      <td>en</td>\n",
              "      <td>1990</td>\n",
              "    </tr>\n",
              "    <tr>\n",
              "      <th>2</th>\n",
              "      <td>[{'id': 36, 'name': 'History'}, {'id': 18, 'na...</td>\n",
              "      <td>8996</td>\n",
              "      <td>tt0099776</td>\n",
              "      <td>en</td>\n",
              "      <td>1990</td>\n",
              "    </tr>\n",
              "    <tr>\n",
              "      <th>3</th>\n",
              "      <td>[{'id': 35, 'name': 'Comedy'}, {'id': 878, 'na...</td>\n",
              "      <td>57476</td>\n",
              "      <td>tt0100670</td>\n",
              "      <td>en</td>\n",
              "      <td>1990</td>\n",
              "    </tr>\n",
              "    <tr>\n",
              "      <th>4</th>\n",
              "      <td>[{'id': 99, 'name': 'Documentary'}]</td>\n",
              "      <td>37447</td>\n",
              "      <td>tt0099121</td>\n",
              "      <td>en</td>\n",
              "      <td>1990</td>\n",
              "    </tr>\n",
              "  </tbody>\n",
              "</table>\n",
              "</div>"
            ],
            "text/plain": [
              "                                              genres  ...  release_date\n",
              "0  [{'id': 35, 'name': 'Comedy'}, {'id': 18, 'nam...  ...          1990\n",
              "1  [{'id': 35, 'name': 'Comedy'}, {'id': 18, 'nam...  ...          1990\n",
              "2  [{'id': 36, 'name': 'History'}, {'id': 18, 'na...  ...          1990\n",
              "3  [{'id': 35, 'name': 'Comedy'}, {'id': 878, 'na...  ...          1990\n",
              "4                [{'id': 99, 'name': 'Documentary'}]  ...          1990\n",
              "\n",
              "[5 rows x 5 columns]"
            ]
          },
          "metadata": {
            "tags": []
          },
          "execution_count": 16
        }
      ]
    },
    {
      "cell_type": "code",
      "metadata": {
        "id": "PCGz6e7X2sgn",
        "colab_type": "code",
        "outputId": "2f538711-a0e4-4139-fa5f-b1bbdc1091a9",
        "colab": {
          "base_uri": "https://localhost:8080/",
          "height": 17
        }
      },
      "source": [
        "# now we have only english movies released after 1990 in our dataset df2\n",
        "# need to remove movies which don't have any genres specified\n",
        "\n",
        "l=[]\n",
        "for i in range(len(df2)):\n",
        "    if len(eval(df2.iloc[i,0]))==0:\n",
        "        l.append(i)\n",
        "        \n",
        "print(len(l))\n",
        "  "
      ],
      "execution_count": 17,
      "outputs": [
        {
          "output_type": "stream",
          "text": [
            "1050\n"
          ],
          "name": "stdout"
        }
      ]
    },
    {
      "cell_type": "code",
      "metadata": {
        "id": "XwLXbLC42sk1",
        "colab_type": "code",
        "outputId": "22477977-1a04-41d9-f1de-d8c3fcd891cc",
        "colab": {
          "base_uri": "https://localhost:8080/",
          "height": 17
        }
      },
      "source": [
        "# need to drop these 1050 rows\n",
        "\n",
        "df2.drop(l, inplace=True)\n",
        "df2.shape"
      ],
      "execution_count": 18,
      "outputs": [
        {
          "output_type": "execute_result",
          "data": {
            "text/plain": [
              "(19846, 5)"
            ]
          },
          "metadata": {
            "tags": []
          },
          "execution_count": 18
        }
      ]
    },
    {
      "cell_type": "code",
      "metadata": {
        "id": "pSZA40QOEedH",
        "colab_type": "code",
        "outputId": "f4d0e55b-4d82-4c86-cddc-fc6b2f7a9dc1",
        "colab": {
          "base_uri": "https://localhost:8080/",
          "height": 189
        }
      },
      "source": [
        "df2.reset_index(inplace=True)\n",
        "df2.drop('index',axis=1,inplace=True)\n",
        "df2.head()"
      ],
      "execution_count": 19,
      "outputs": [
        {
          "output_type": "execute_result",
          "data": {
            "text/html": [
              "<div>\n",
              "<style scoped>\n",
              "    .dataframe tbody tr th:only-of-type {\n",
              "        vertical-align: middle;\n",
              "    }\n",
              "\n",
              "    .dataframe tbody tr th {\n",
              "        vertical-align: top;\n",
              "    }\n",
              "\n",
              "    .dataframe thead th {\n",
              "        text-align: right;\n",
              "    }\n",
              "</style>\n",
              "<table border=\"1\" class=\"dataframe\">\n",
              "  <thead>\n",
              "    <tr style=\"text-align: right;\">\n",
              "      <th></th>\n",
              "      <th>genres</th>\n",
              "      <th>id</th>\n",
              "      <th>imdb_id</th>\n",
              "      <th>original_language</th>\n",
              "      <th>release_date</th>\n",
              "    </tr>\n",
              "  </thead>\n",
              "  <tbody>\n",
              "    <tr>\n",
              "      <th>0</th>\n",
              "      <td>[{'id': 35, 'name': 'Comedy'}, {'id': 18, 'nam...</td>\n",
              "      <td>44281</td>\n",
              "      <td>tt0090665</td>\n",
              "      <td>en</td>\n",
              "      <td>1990</td>\n",
              "    </tr>\n",
              "    <tr>\n",
              "      <th>1</th>\n",
              "      <td>[{'id': 35, 'name': 'Comedy'}, {'id': 18, 'nam...</td>\n",
              "      <td>41927</td>\n",
              "      <td>tt0100822</td>\n",
              "      <td>en</td>\n",
              "      <td>1990</td>\n",
              "    </tr>\n",
              "    <tr>\n",
              "      <th>2</th>\n",
              "      <td>[{'id': 36, 'name': 'History'}, {'id': 18, 'na...</td>\n",
              "      <td>8996</td>\n",
              "      <td>tt0099776</td>\n",
              "      <td>en</td>\n",
              "      <td>1990</td>\n",
              "    </tr>\n",
              "    <tr>\n",
              "      <th>3</th>\n",
              "      <td>[{'id': 35, 'name': 'Comedy'}, {'id': 878, 'na...</td>\n",
              "      <td>57476</td>\n",
              "      <td>tt0100670</td>\n",
              "      <td>en</td>\n",
              "      <td>1990</td>\n",
              "    </tr>\n",
              "    <tr>\n",
              "      <th>4</th>\n",
              "      <td>[{'id': 99, 'name': 'Documentary'}]</td>\n",
              "      <td>37447</td>\n",
              "      <td>tt0099121</td>\n",
              "      <td>en</td>\n",
              "      <td>1990</td>\n",
              "    </tr>\n",
              "  </tbody>\n",
              "</table>\n",
              "</div>"
            ],
            "text/plain": [
              "                                              genres  ...  release_date\n",
              "0  [{'id': 35, 'name': 'Comedy'}, {'id': 18, 'nam...  ...          1990\n",
              "1  [{'id': 35, 'name': 'Comedy'}, {'id': 18, 'nam...  ...          1990\n",
              "2  [{'id': 36, 'name': 'History'}, {'id': 18, 'na...  ...          1990\n",
              "3  [{'id': 35, 'name': 'Comedy'}, {'id': 878, 'na...  ...          1990\n",
              "4                [{'id': 99, 'name': 'Documentary'}]  ...          1990\n",
              "\n",
              "[5 rows x 5 columns]"
            ]
          },
          "metadata": {
            "tags": []
          },
          "execution_count": 19
        }
      ]
    },
    {
      "cell_type": "code",
      "metadata": {
        "id": "2Ss0TNPm2sp8",
        "colab_type": "code",
        "colab": {}
      },
      "source": [
        "# shows how many movies in each genre\n",
        "\n",
        "dict_g = {}\n",
        "for i in range(len(df2)):\n",
        "    genres = eval(df2.iloc[i,0])\n",
        "    \n",
        "    for genre in genres:\n",
        "        if genre['name'] not in dict_g.keys():\n",
        "            dict_g[str(genre['name'])] = 1\n",
        "        else:\n",
        "            dict_g[str(genre['name'])] += 1"
      ],
      "execution_count": 0,
      "outputs": []
    },
    {
      "cell_type": "code",
      "metadata": {
        "id": "pkCs97Kh_b0X",
        "colab_type": "code",
        "outputId": "c2f81768-636c-4099-ac4b-e90824381f0b",
        "colab": {
          "base_uri": "https://localhost:8080/",
          "height": 364
        }
      },
      "source": [
        "dict_g"
      ],
      "execution_count": 21,
      "outputs": [
        {
          "output_type": "execute_result",
          "data": {
            "text/plain": [
              "{'Action': 3050,\n",
              " 'Adventure': 1602,\n",
              " 'Animation': 918,\n",
              " 'Comedy': 6067,\n",
              " 'Crime': 1783,\n",
              " 'Documentary': 2969,\n",
              " 'Drama': 8280,\n",
              " 'Family': 1669,\n",
              " 'Fantasy': 1064,\n",
              " 'Foreign': 541,\n",
              " 'History': 526,\n",
              " 'Horror': 2458,\n",
              " 'Music': 718,\n",
              " 'Mystery': 1128,\n",
              " 'Romance': 2830,\n",
              " 'Science Fiction': 1627,\n",
              " 'TV Movie': 579,\n",
              " 'Thriller': 4316,\n",
              " 'War': 335,\n",
              " 'Western': 188}"
            ]
          },
          "metadata": {
            "tags": []
          },
          "execution_count": 21
        }
      ]
    },
    {
      "cell_type": "code",
      "metadata": {
        "id": "HKiiX0-o_b3H",
        "colab_type": "code",
        "outputId": "ca20cc2b-ce71-41d5-a0c7-5b7bb294ff92",
        "colab": {
          "base_uri": "https://localhost:8080/",
          "height": 300
        }
      },
      "source": [
        "plt.bar( dict_g.keys(), dict_g.values(), width=1)\n",
        "plt.figure(figsize=(40,12))"
      ],
      "execution_count": 22,
      "outputs": [
        {
          "output_type": "execute_result",
          "data": {
            "text/plain": [
              "<Figure size 2880x864 with 0 Axes>"
            ]
          },
          "metadata": {
            "tags": []
          },
          "execution_count": 22
        },
        {
          "output_type": "display_data",
          "data": {
            "image/png": "[encoded data removed]",
            "text/plain": [
              "<Figure size 432x288 with 1 Axes>"
            ]
          },
          "metadata": {
            "tags": []
          }
        },
        {
          "output_type": "display_data",
          "data": {
            "text/plain": [
              "<Figure size 2880x864 with 0 Axes>"
            ]
          },
          "metadata": {
            "tags": []
          }
        }
      ]
    },
    {
      "cell_type": "code",
      "metadata": {
        "id": "x1NAOq2o_b56",
        "colab_type": "code",
        "outputId": "139ea161-2c70-4b1b-d759-e72dc7d03a71",
        "colab": {
          "base_uri": "https://localhost:8080/",
          "height": 677
        }
      },
      "source": [
        "df2.head(20)"
      ],
      "execution_count": 23,
      "outputs": [
        {
          "output_type": "execute_result",
          "data": {
            "text/html": [
              "<div>\n",
              "<style scoped>\n",
              "    .dataframe tbody tr th:only-of-type {\n",
              "        vertical-align: middle;\n",
              "    }\n",
              "\n",
              "    .dataframe tbody tr th {\n",
              "        vertical-align: top;\n",
              "    }\n",
              "\n",
              "    .dataframe thead th {\n",
              "        text-align: right;\n",
              "    }\n",
              "</style>\n",
              "<table border=\"1\" class=\"dataframe\">\n",
              "  <thead>\n",
              "    <tr style=\"text-align: right;\">\n",
              "      <th></th>\n",
              "      <th>genres</th>\n",
              "      <th>id</th>\n",
              "      <th>imdb_id</th>\n",
              "      <th>original_language</th>\n",
              "      <th>release_date</th>\n",
              "    </tr>\n",
              "  </thead>\n",
              "  <tbody>\n",
              "    <tr>\n",
              "      <th>0</th>\n",
              "      <td>[{'id': 35, 'name': 'Comedy'}, {'id': 18, 'nam...</td>\n",
              "      <td>44281</td>\n",
              "      <td>tt0090665</td>\n",
              "      <td>en</td>\n",
              "      <td>1990</td>\n",
              "    </tr>\n",
              "    <tr>\n",
              "      <th>1</th>\n",
              "      <td>[{'id': 35, 'name': 'Comedy'}, {'id': 18, 'nam...</td>\n",
              "      <td>41927</td>\n",
              "      <td>tt0100822</td>\n",
              "      <td>en</td>\n",
              "      <td>1990</td>\n",
              "    </tr>\n",
              "    <tr>\n",
              "      <th>2</th>\n",
              "      <td>[{'id': 36, 'name': 'History'}, {'id': 18, 'na...</td>\n",
              "      <td>8996</td>\n",
              "      <td>tt0099776</td>\n",
              "      <td>en</td>\n",
              "      <td>1990</td>\n",
              "    </tr>\n",
              "    <tr>\n",
              "      <th>3</th>\n",
              "      <td>[{'id': 35, 'name': 'Comedy'}, {'id': 878, 'na...</td>\n",
              "      <td>57476</td>\n",
              "      <td>tt0100670</td>\n",
              "      <td>en</td>\n",
              "      <td>1990</td>\n",
              "    </tr>\n",
              "    <tr>\n",
              "      <th>4</th>\n",
              "      <td>[{'id': 99, 'name': 'Documentary'}]</td>\n",
              "      <td>37447</td>\n",
              "      <td>tt0099121</td>\n",
              "      <td>en</td>\n",
              "      <td>1990</td>\n",
              "    </tr>\n",
              "    <tr>\n",
              "      <th>5</th>\n",
              "      <td>[{'id': 10749, 'name': 'Romance'}, {'id': 53, ...</td>\n",
              "      <td>41925</td>\n",
              "      <td>tt0099292</td>\n",
              "      <td>en</td>\n",
              "      <td>1990</td>\n",
              "    </tr>\n",
              "    <tr>\n",
              "      <th>6</th>\n",
              "      <td>[{'id': 27, 'name': 'Horror'}]</td>\n",
              "      <td>67515</td>\n",
              "      <td>tt0100079</td>\n",
              "      <td>en</td>\n",
              "      <td>1990</td>\n",
              "    </tr>\n",
              "    <tr>\n",
              "      <th>7</th>\n",
              "      <td>[{'id': 10402, 'name': 'Music'}]</td>\n",
              "      <td>44257</td>\n",
              "      <td>tt0099844</td>\n",
              "      <td>en</td>\n",
              "      <td>1990</td>\n",
              "    </tr>\n",
              "    <tr>\n",
              "      <th>8</th>\n",
              "      <td>[{'id': 28, 'name': 'Action'}, {'id': 53, 'nam...</td>\n",
              "      <td>13293</td>\n",
              "      <td>tt0099260</td>\n",
              "      <td>en</td>\n",
              "      <td>1990</td>\n",
              "    </tr>\n",
              "    <tr>\n",
              "      <th>9</th>\n",
              "      <td>[{'id': 18, 'name': 'Drama'}, {'id': 10749, 'n...</td>\n",
              "      <td>41810</td>\n",
              "      <td>tt0099017</td>\n",
              "      <td>en</td>\n",
              "      <td>1990</td>\n",
              "    </tr>\n",
              "    <tr>\n",
              "      <th>10</th>\n",
              "      <td>[{'id': 35, 'name': 'Comedy'}]</td>\n",
              "      <td>21811</td>\n",
              "      <td>tt0102940</td>\n",
              "      <td>en</td>\n",
              "      <td>1990</td>\n",
              "    </tr>\n",
              "    <tr>\n",
              "      <th>11</th>\n",
              "      <td>[{'id': 16, 'name': 'Animation'}, {'id': 10751...</td>\n",
              "      <td>13759</td>\n",
              "      <td>tt0100281</td>\n",
              "      <td>en</td>\n",
              "      <td>1990</td>\n",
              "    </tr>\n",
              "    <tr>\n",
              "      <th>12</th>\n",
              "      <td>[{'id': 18, 'name': 'Drama'}]</td>\n",
              "      <td>91138</td>\n",
              "      <td>tt0099796</td>\n",
              "      <td>en</td>\n",
              "      <td>1990</td>\n",
              "    </tr>\n",
              "    <tr>\n",
              "      <th>13</th>\n",
              "      <td>[{'id': 878, 'name': 'Science Fiction'}]</td>\n",
              "      <td>30647</td>\n",
              "      <td>tt0098962</td>\n",
              "      <td>en</td>\n",
              "      <td>1990</td>\n",
              "    </tr>\n",
              "    <tr>\n",
              "      <th>14</th>\n",
              "      <td>[{'id': 53, 'name': 'Thriller'}, {'id': 28, 'n...</td>\n",
              "      <td>31942</td>\n",
              "      <td>tt0100148</td>\n",
              "      <td>en</td>\n",
              "      <td>1990</td>\n",
              "    </tr>\n",
              "    <tr>\n",
              "      <th>15</th>\n",
              "      <td>[{'id': 12, 'name': 'Adventure'}, {'id': 14, '...</td>\n",
              "      <td>5086</td>\n",
              "      <td>tt0100448</td>\n",
              "      <td>en</td>\n",
              "      <td>1990</td>\n",
              "    </tr>\n",
              "    <tr>\n",
              "      <th>16</th>\n",
              "      <td>[{'id': 14, 'name': 'Fantasy'}, {'id': 878, 'n...</td>\n",
              "      <td>31647</td>\n",
              "      <td>tt0102569</td>\n",
              "      <td>en</td>\n",
              "      <td>1990</td>\n",
              "    </tr>\n",
              "    <tr>\n",
              "      <th>17</th>\n",
              "      <td>[{'id': 878, 'name': 'Science Fiction'}, {'id'...</td>\n",
              "      <td>24862</td>\n",
              "      <td>tt0099313</td>\n",
              "      <td>en</td>\n",
              "      <td>1990</td>\n",
              "    </tr>\n",
              "    <tr>\n",
              "      <th>18</th>\n",
              "      <td>[{'id': 10749, 'name': 'Romance'}, {'id': 36, ...</td>\n",
              "      <td>87628</td>\n",
              "      <td>tt0099655</td>\n",
              "      <td>en</td>\n",
              "      <td>1990</td>\n",
              "    </tr>\n",
              "    <tr>\n",
              "      <th>19</th>\n",
              "      <td>[{'id': 12, 'name': 'Adventure'}, {'id': 10751...</td>\n",
              "      <td>162934</td>\n",
              "      <td>tt0094333</td>\n",
              "      <td>en</td>\n",
              "      <td>1990</td>\n",
              "    </tr>\n",
              "  </tbody>\n",
              "</table>\n",
              "</div>"
            ],
            "text/plain": [
              "                                               genres  ...  release_date\n",
              "0   [{'id': 35, 'name': 'Comedy'}, {'id': 18, 'nam...  ...          1990\n",
              "1   [{'id': 35, 'name': 'Comedy'}, {'id': 18, 'nam...  ...          1990\n",
              "2   [{'id': 36, 'name': 'History'}, {'id': 18, 'na...  ...          1990\n",
              "3   [{'id': 35, 'name': 'Comedy'}, {'id': 878, 'na...  ...          1990\n",
              "4                 [{'id': 99, 'name': 'Documentary'}]  ...          1990\n",
              "5   [{'id': 10749, 'name': 'Romance'}, {'id': 53, ...  ...          1990\n",
              "6                      [{'id': 27, 'name': 'Horror'}]  ...          1990\n",
              "7                    [{'id': 10402, 'name': 'Music'}]  ...          1990\n",
              "8   [{'id': 28, 'name': 'Action'}, {'id': 53, 'nam...  ...          1990\n",
              "9   [{'id': 18, 'name': 'Drama'}, {'id': 10749, 'n...  ...          1990\n",
              "10                     [{'id': 35, 'name': 'Comedy'}]  ...          1990\n",
              "11  [{'id': 16, 'name': 'Animation'}, {'id': 10751...  ...          1990\n",
              "12                      [{'id': 18, 'name': 'Drama'}]  ...          1990\n",
              "13           [{'id': 878, 'name': 'Science Fiction'}]  ...          1990\n",
              "14  [{'id': 53, 'name': 'Thriller'}, {'id': 28, 'n...  ...          1990\n",
              "15  [{'id': 12, 'name': 'Adventure'}, {'id': 14, '...  ...          1990\n",
              "16  [{'id': 14, 'name': 'Fantasy'}, {'id': 878, 'n...  ...          1990\n",
              "17  [{'id': 878, 'name': 'Science Fiction'}, {'id'...  ...          1990\n",
              "18  [{'id': 10749, 'name': 'Romance'}, {'id': 36, ...  ...          1990\n",
              "19  [{'id': 12, 'name': 'Adventure'}, {'id': 10751...  ...          1990\n",
              "\n",
              "[20 rows x 5 columns]"
            ]
          },
          "metadata": {
            "tags": []
          },
          "execution_count": 23
        }
      ]
    },
    {
      "cell_type": "code",
      "metadata": {
        "id": "5T1cowy4Ew6f",
        "colab_type": "code",
        "outputId": "988cbdad-2658-436a-e420-7cd5f1e2a046",
        "colab": {
          "base_uri": "https://localhost:8080/",
          "height": 34
        }
      },
      "source": [
        "df2.shape"
      ],
      "execution_count": 24,
      "outputs": [
        {
          "output_type": "execute_result",
          "data": {
            "text/plain": [
              "(19846, 5)"
            ]
          },
          "metadata": {
            "tags": []
          },
          "execution_count": 24
        }
      ]
    },
    {
      "cell_type": "code",
      "metadata": {
        "id": "UmsiU6bat-je",
        "colab_type": "code",
        "colab": {}
      },
      "source": [
        "genres_dict = {     \n",
        "     12: \"Adventure\",\n",
        "     14: \"Fantasy\",\n",
        "     16: \"Animation\",\n",
        "     18: \"Drama\",\n",
        "     27: \"Horror\", \n",
        "     28: \"Action\",\n",
        "     35: \"Comedy\",\n",
        "     36: \"History\", \n",
        "     37: \"Western\",     \n",
        "     53: \"Thriller\",\n",
        "     80: \"Crime\",  \n",
        "     99: \"Documentary\",\n",
        "     878: \"Science Fiction\", \n",
        "     9648: \"Mystery\",    \n",
        "     10402: \"Music\",     \n",
        "     10749: \"Romance\",     \n",
        "     10751: \"Family\",    \n",
        "     10752: \"War\",     \n",
        "     10769: \"Foreign\", \n",
        "     10770: \"TV Movie\", }"
      ],
      "execution_count": 0,
      "outputs": []
    },
    {
      "cell_type": "code",
      "metadata": {
        "id": "q-j3_uquEw9Q",
        "colab_type": "code",
        "colab": {}
      },
      "source": [
        "# need to extract labels(genres) of each poster now and insert into Ydata\n",
        "# and also process each poster into numpy arrays and insert into Xdata\n",
        "\n",
        "import os\n",
        "\n",
        "dir = './ml-dataset/en_90/'\n",
        "dir2= './ml-dataset/images/'\n",
        "\n",
        "labels = []\n",
        "\n",
        "x_data = []\n",
        "y_data = []\n",
        "\n",
        "poster_shape = (268,182,3)\n",
        "\n",
        "for i,row in df2.iterrows():\n",
        "  \n",
        "  row_genre = { genre['id'] for genre in eval(row['genres']) if genre['id'] in genres_dict }\n",
        "  image_loc = dir + str(row['imdb_id']) + '.jpg'\n",
        "  image_loc2= dir2 + str(row['imdb_id']) + '.jpg'\n",
        "  \n",
        "  if os.path.exists(image_loc):\n",
        "    \n",
        "    poster = cv2.imread(image_loc)\n",
        "    if poster.shape == poster_shape:\n",
        "      x_data.append(poster)\n",
        "      y_data.append(row_genre)\n",
        "  \n",
        "  elif os.path.exists(image_loc2):\n",
        "    \n",
        "    poster = cv2.imread(image_loc2)\n",
        "    if poster.shape == poster_shape:\n",
        "      x_data.append(poster)\n",
        "      y_data.append(row_genre)\n",
        "  "
      ],
      "execution_count": 0,
      "outputs": []
    },
    {
      "cell_type": "code",
      "metadata": {
        "id": "L4N7t-ab_cPs",
        "colab_type": "code",
        "outputId": "c6d72822-6dfa-4859-9552-e8017fa5e174",
        "colab": {
          "base_uri": "https://localhost:8080/",
          "height": 34
        }
      },
      "source": [
        "len(x_data)"
      ],
      "execution_count": 33,
      "outputs": [
        {
          "output_type": "execute_result",
          "data": {
            "text/plain": [
              "18938"
            ]
          },
          "metadata": {
            "tags": []
          },
          "execution_count": 33
        }
      ]
    },
    {
      "cell_type": "code",
      "metadata": {
        "id": "X5oIDiybmohg",
        "colab_type": "code",
        "outputId": "d8e49431-a833-4c73-b977-cb8623756e9f",
        "colab": {
          "base_uri": "https://localhost:8080/",
          "height": 34
        }
      },
      "source": [
        "!pip install scikit-multilearn"
      ],
      "execution_count": 34,
      "outputs": [
        {
          "output_type": "stream",
          "text": [
            "Requirement already satisfied: scikit-multilearn in /usr/local/lib/python3.6/dist-packages (0.2.0)\n"
          ],
          "name": "stdout"
        }
      ]
    },
    {
      "cell_type": "code",
      "metadata": {
        "id": "aOl8Ptqjj7ON",
        "colab_type": "code",
        "colab": {}
      },
      "source": [
        "from sklearn.preprocessing import MultiLabelBinarizer \n",
        "from skmultilearn.model_selection import iterative_train_test_split\n",
        "import cv2\n",
        "genre_list = list(genres_dict.keys())\n",
        "\n",
        "mlb = MultiLabelBinarizer(classes=genre_list)\n",
        "Y_data = mlb.fit_transform(y_data)\n",
        "\n",
        "X_data = np.array(x_data)\n",
        "X_data = np.array(list(map(lambda x: cv2.resize(x, (224,224), interpolation=cv2.INTER_AREA), X_data)))\n"
      ],
      "execution_count": 0,
      "outputs": []
    },
    {
      "cell_type": "code",
      "metadata": {
        "id": "olb1RTvzj7VK",
        "colab_type": "code",
        "colab": {}
      },
      "source": [
        "X_train, Y_train, X_test, Y_test = iterative_train_test_split(X_data, Y_data, test_size = 0.33)\n",
        "del X_data\n",
        "del Y_data\n",
        "del x_data\n",
        "del df2"
      ],
      "execution_count": 0,
      "outputs": []
    },
    {
      "cell_type": "code",
      "metadata": {
        "id": "6RL378nstBWO",
        "colab_type": "code",
        "outputId": "63bdc127-4502-42c8-f2a0-428c2a785db8",
        "colab": {
          "base_uri": "https://localhost:8080/",
          "height": 52
        }
      },
      "source": [
        "print(len(X_train))\n",
        "print(len(X_test))\n"
      ],
      "execution_count": 37,
      "outputs": [
        {
          "output_type": "stream",
          "text": [
            "12644\n",
            "6294\n"
          ],
          "name": "stdout"
        }
      ]
    },
    {
      "cell_type": "code",
      "metadata": {
        "id": "jG3T5nM1rYVo",
        "colab_type": "code",
        "outputId": "431326cb-c115-4980-b986-edbd6b17de17",
        "colab": {
          "base_uri": "https://localhost:8080/",
          "height": 1000
        }
      },
      "source": [
        "from tensorflow.keras.applications.vgg19 import VGG19\n",
        "from tensorflow.keras.applications.vgg19 import preprocess_input\n",
        "from tensorflow.keras import Model\n",
        "\n",
        "model1 = VGG19(weights='imagenet', include_top=True)\n",
        "\n",
        "model1.summary()\n",
        "\n",
        "model1 = Model(inputs=model1.input, outputs=model1.layers[-3].output)\n"
      ],
      "execution_count": 38,
      "outputs": [
        {
          "output_type": "display_data",
          "data": {
            "text/html": [
              "<p style=\"color: red;\">\n",
              "The default version of TensorFlow in Colab will soon switch to TensorFlow 2.x.<br>\n",
              "We recommend you <a href=\"https://www.tensorflow.org/guide/migrate\" target=\"_blank\">upgrade</a> now \n",
              "or ensure your notebook will continue to use TensorFlow 1.x via the <code>%tensorflow_version 1.x</code> magic:\n",
              "<a href=\"https://colab.research.google.com/notebooks/tensorflow_version.ipynb\" target=\"_blank\">more info</a>.</p>\n"
            ],
            "text/plain": [
              "<IPython.core.display.HTML object>"
            ]
          },
          "metadata": {
            "tags": []
          }
        },
        {
          "output_type": "stream",
          "text": [
            "WARNING:tensorflow:From /usr/local/lib/python3.6/dist-packages/tensorflow_core/python/ops/resource_variable_ops.py:1630: calling BaseResourceVariable.__init__ (from tensorflow.python.ops.resource_variable_ops) with constraint is deprecated and will be removed in a future version.\n",
            "Instructions for updating:\n",
            "If using Keras pass *_constraint arguments to layers.\n",
            "Downloading data from https://github.com/fchollet/deep-learning-models/releases/download/v0.1/vgg19_weights_tf_dim_ordering_tf_kernels.h5\n",
            "574717952/574710816 [==============================] - 16s 0us/step\n",
            "Model: \"vgg19\"\n",
            "_________________________________________________________________\n",
            "Layer (type)                 Output Shape              Param #   \n",
            "=================================================================\n",
            "input_1 (InputLayer)         [(None, 224, 224, 3)]     0         \n",
            "_________________________________________________________________\n",
            "block1_conv1 (Conv2D)        (None, 224, 224, 64)      1792      \n",
            "_________________________________________________________________\n",
            "block1_conv2 (Conv2D)        (None, 224, 224, 64)      36928     \n",
            "_________________________________________________________________\n",
            "block1_pool (MaxPooling2D)   (None, 112, 112, 64)      0         \n",
            "_________________________________________________________________\n",
            "block2_conv1 (Conv2D)        (None, 112, 112, 128)     73856     \n",
            "_________________________________________________________________\n",
            "block2_conv2 (Conv2D)        (None, 112, 112, 128)     147584    \n",
            "_________________________________________________________________\n",
            "block2_pool (MaxPooling2D)   (None, 56, 56, 128)       0         \n",
            "_________________________________________________________________\n",
            "block3_conv1 (Conv2D)        (None, 56, 56, 256)       295168    \n",
            "_________________________________________________________________\n",
            "block3_conv2 (Conv2D)        (None, 56, 56, 256)       590080    \n",
            "_________________________________________________________________\n",
            "block3_conv3 (Conv2D)        (None, 56, 56, 256)       590080    \n",
            "_________________________________________________________________\n",
            "block3_conv4 (Conv2D)        (None, 56, 56, 256)       590080    \n",
            "_________________________________________________________________\n",
            "block3_pool (MaxPooling2D)   (None, 28, 28, 256)       0         \n",
            "_________________________________________________________________\n",
            "block4_conv1 (Conv2D)        (None, 28, 28, 512)       1180160   \n",
            "_________________________________________________________________\n",
            "block4_conv2 (Conv2D)        (None, 28, 28, 512)       2359808   \n",
            "_________________________________________________________________\n",
            "block4_conv3 (Conv2D)        (None, 28, 28, 512)       2359808   \n",
            "_________________________________________________________________\n",
            "block4_conv4 (Conv2D)        (None, 28, 28, 512)       2359808   \n",
            "_________________________________________________________________\n",
            "block4_pool (MaxPooling2D)   (None, 14, 14, 512)       0         \n",
            "_________________________________________________________________\n",
            "block5_conv1 (Conv2D)        (None, 14, 14, 512)       2359808   \n",
            "_________________________________________________________________\n",
            "block5_conv2 (Conv2D)        (None, 14, 14, 512)       2359808   \n",
            "_________________________________________________________________\n",
            "block5_conv3 (Conv2D)        (None, 14, 14, 512)       2359808   \n",
            "_________________________________________________________________\n",
            "block5_conv4 (Conv2D)        (None, 14, 14, 512)       2359808   \n",
            "_________________________________________________________________\n",
            "block5_pool (MaxPooling2D)   (None, 7, 7, 512)         0         \n",
            "_________________________________________________________________\n",
            "flatten (Flatten)            (None, 25088)             0         \n",
            "_________________________________________________________________\n",
            "fc1 (Dense)                  (None, 4096)              102764544 \n",
            "_________________________________________________________________\n",
            "fc2 (Dense)                  (None, 4096)              16781312  \n",
            "_________________________________________________________________\n",
            "predictions (Dense)          (None, 1000)              4097000   \n",
            "=================================================================\n",
            "Total params: 143,667,240\n",
            "Trainable params: 143,667,240\n",
            "Non-trainable params: 0\n",
            "_________________________________________________________________\n"
          ],
          "name": "stdout"
        }
      ]
    },
    {
      "cell_type": "code",
      "metadata": {
        "id": "LUVq5Jc9tBg_",
        "colab_type": "code",
        "outputId": "28a5e1f7-498d-4e7e-81b0-1dd5423fe04a",
        "colab": {
          "base_uri": "https://localhost:8080/",
          "height": 121
        }
      },
      "source": [
        "import tensorflow as tf\n",
        "from tensorflow.keras.layers import Conv2D, MaxPooling2D, Dropout, Concatenate, Flatten, Dense, Reshape\n",
        "\n",
        "input1 = tf.keras.Input(shape = (224,224,3))\n",
        "input2 = tf.keras.Input(shape = (4096,))\n",
        "layer = Conv2D( filters=8, kernel_size=2, strides=1, use_bias=True, input_shape=poster_shape, activation='relu')(input1)\n",
        "layer = MaxPooling2D( pool_size=2, strides=2 )(layer)\n",
        "\n",
        "layer = Conv2D(filters=16, kernel_size=2, strides=1, use_bias=True, activation='relu')(layer)     \n",
        "layer = MaxPooling2D(pool_size=2, strides=1)(layer)\n",
        "layer = Dropout(0.6)(layer)\n",
        "    \n",
        "layer = Conv2D(filters=32, kernel_size=2, strides=1, use_bias=True, activation='relu')(layer)\n",
        "layer = MaxPooling2D(pool_size=2, strides=1)(layer)\n",
        "layer = Dropout(0.6)(layer)\n",
        "        \n",
        "layer = Conv2D(filters=64, kernel_size=2, strides=1, use_bias=True, activation='relu')(layer) \n",
        "layer = MaxPooling2D(pool_size=2, strides=1)(layer)   \n",
        "layer = Dropout(0.6)(layer)\n",
        "    \n",
        "layer = Conv2D(filters=64, kernel_size=2, strides=2, use_bias=True, activation='relu')(layer)\n",
        "layer = MaxPooling2D(pool_size=2, strides=1)(layer)\n",
        "layer = Dropout(0.6)(layer)\n",
        "    \n",
        "layer = Conv2D(filters=64, kernel_size=2, strides=2, use_bias=True, activation='relu')(layer)\n",
        "layer = MaxPooling2D(pool_size=2, strides=1)(layer)\n",
        "layer = Dropout(0.6)(layer)\n",
        "\n",
        "layer =  Flatten(name='flatten_last')(layer)\n",
        "\n",
        "out1 = Dense(4096, activation='relu')(input2)\n",
        "out2 =  Dense(4096 , activation = 'relu')(layer)\n",
        "print(input2.shape)"
      ],
      "execution_count": 39,
      "outputs": [
        {
          "output_type": "stream",
          "text": [
            "WARNING:tensorflow:Large dropout rate: 0.6 (>0.5). In TensorFlow 2.x, dropout() uses dropout rate instead of keep_prob. Please ensure that this is intended.\n",
            "WARNING:tensorflow:Large dropout rate: 0.6 (>0.5). In TensorFlow 2.x, dropout() uses dropout rate instead of keep_prob. Please ensure that this is intended.\n",
            "WARNING:tensorflow:Large dropout rate: 0.6 (>0.5). In TensorFlow 2.x, dropout() uses dropout rate instead of keep_prob. Please ensure that this is intended.\n",
            "WARNING:tensorflow:Large dropout rate: 0.6 (>0.5). In TensorFlow 2.x, dropout() uses dropout rate instead of keep_prob. Please ensure that this is intended.\n",
            "WARNING:tensorflow:Large dropout rate: 0.6 (>0.5). In TensorFlow 2.x, dropout() uses dropout rate instead of keep_prob. Please ensure that this is intended.\n",
            "(?, 4096)\n"
          ],
          "name": "stdout"
        }
      ]
    },
    {
      "cell_type": "code",
      "metadata": {
        "id": "OhFkQ126k1dh",
        "colab_type": "code",
        "outputId": "44f4954b-97f9-40b9-a575-44d9f3fb687f",
        "colab": {
          "base_uri": "https://localhost:8080/",
          "height": 52
        }
      },
      "source": [
        "print(out2.shape)\n",
        "mergedOut = tf.keras.layers.Concatenate(axis=-1)([out2, out1])\n",
        "print(mergedOut.shape)\n",
        "mergedOut = Dense(1024, activation='relu')(mergedOut)\n",
        "mergedOut = Dropout(0.4)(mergedOut)\n",
        "mergedOut = Dense(256, activation='relu')(mergedOut)\n",
        "mergedOut = Dropout(0.4)(mergedOut)\n",
        "\n",
        "# output layer\n",
        "mergedOut = Dense(20, activation='sigmoid')(mergedOut)"
      ],
      "execution_count": 40,
      "outputs": [
        {
          "output_type": "stream",
          "text": [
            "(?, 4096)\n",
            "(?, 8192)\n"
          ],
          "name": "stdout"
        }
      ]
    },
    {
      "cell_type": "code",
      "metadata": {
        "id": "EMgatUYTmQhD",
        "colab_type": "code",
        "colab": {}
      },
      "source": [
        "from tensorflow.keras import Model\n",
        "\n",
        "newModel = Model(inputs=[input2, input1], outputs=[mergedOut])\n"
      ],
      "execution_count": 0,
      "outputs": []
    },
    {
      "cell_type": "code",
      "metadata": {
        "id": "fS03YQ0etBeM",
        "colab_type": "code",
        "outputId": "73e2fa2b-b0d1-4205-c99a-1b190a646f59",
        "colab": {
          "base_uri": "https://localhost:8080/",
          "height": 1000
        }
      },
      "source": [
        "newModel.compile(optimizer='adam', loss='binary_crossentropy', metrics=['categorical_accuracy']) \n",
        "\n",
        "newModel.summary() "
      ],
      "execution_count": 42,
      "outputs": [
        {
          "output_type": "stream",
          "text": [
            "WARNING:tensorflow:From /usr/local/lib/python3.6/dist-packages/tensorflow_core/python/ops/nn_impl.py:183: where (from tensorflow.python.ops.array_ops) is deprecated and will be removed in a future version.\n",
            "Instructions for updating:\n",
            "Use tf.where in 2.0, which has the same broadcast rule as np.where\n",
            "Model: \"model_1\"\n",
            "__________________________________________________________________________________________________\n",
            "Layer (type)                    Output Shape         Param #     Connected to                     \n",
            "==================================================================================================\n",
            "input_2 (InputLayer)            [(None, 224, 224, 3) 0                                            \n",
            "__________________________________________________________________________________________________\n",
            "conv2d (Conv2D)                 (None, 223, 223, 8)  104         input_2[0][0]                    \n",
            "__________________________________________________________________________________________________\n",
            "max_pooling2d (MaxPooling2D)    (None, 111, 111, 8)  0           conv2d[0][0]                     \n",
            "__________________________________________________________________________________________________\n",
            "conv2d_1 (Conv2D)               (None, 110, 110, 16) 528         max_pooling2d[0][0]              \n",
            "__________________________________________________________________________________________________\n",
            "max_pooling2d_1 (MaxPooling2D)  (None, 109, 109, 16) 0           conv2d_1[0][0]                   \n",
            "__________________________________________________________________________________________________\n",
            "dropout (Dropout)               (None, 109, 109, 16) 0           max_pooling2d_1[0][0]            \n",
            "__________________________________________________________________________________________________\n",
            "conv2d_2 (Conv2D)               (None, 108, 108, 32) 2080        dropout[0][0]                    \n",
            "__________________________________________________________________________________________________\n",
            "max_pooling2d_2 (MaxPooling2D)  (None, 107, 107, 32) 0           conv2d_2[0][0]                   \n",
            "__________________________________________________________________________________________________\n",
            "dropout_1 (Dropout)             (None, 107, 107, 32) 0           max_pooling2d_2[0][0]            \n",
            "__________________________________________________________________________________________________\n",
            "conv2d_3 (Conv2D)               (None, 106, 106, 64) 8256        dropout_1[0][0]                  \n",
            "__________________________________________________________________________________________________\n",
            "max_pooling2d_3 (MaxPooling2D)  (None, 105, 105, 64) 0           conv2d_3[0][0]                   \n",
            "__________________________________________________________________________________________________\n",
            "dropout_2 (Dropout)             (None, 105, 105, 64) 0           max_pooling2d_3[0][0]            \n",
            "__________________________________________________________________________________________________\n",
            "conv2d_4 (Conv2D)               (None, 52, 52, 64)   16448       dropout_2[0][0]                  \n",
            "__________________________________________________________________________________________________\n",
            "max_pooling2d_4 (MaxPooling2D)  (None, 51, 51, 64)   0           conv2d_4[0][0]                   \n",
            "__________________________________________________________________________________________________\n",
            "dropout_3 (Dropout)             (None, 51, 51, 64)   0           max_pooling2d_4[0][0]            \n",
            "__________________________________________________________________________________________________\n",
            "conv2d_5 (Conv2D)               (None, 25, 25, 64)   16448       dropout_3[0][0]                  \n",
            "__________________________________________________________________________________________________\n",
            "max_pooling2d_5 (MaxPooling2D)  (None, 24, 24, 64)   0           conv2d_5[0][0]                   \n",
            "__________________________________________________________________________________________________\n",
            "dropout_4 (Dropout)             (None, 24, 24, 64)   0           max_pooling2d_5[0][0]            \n",
            "__________________________________________________________________________________________________\n",
            "flatten_last (Flatten)          (None, 36864)        0           dropout_4[0][0]                  \n",
            "__________________________________________________________________________________________________\n",
            "input_3 (InputLayer)            [(None, 4096)]       0                                            \n",
            "__________________________________________________________________________________________________\n",
            "dense_1 (Dense)                 (None, 4096)         150999040   flatten_last[0][0]               \n",
            "__________________________________________________________________________________________________\n",
            "dense (Dense)                   (None, 4096)         16781312    input_3[0][0]                    \n",
            "__________________________________________________________________________________________________\n",
            "concatenate (Concatenate)       (None, 8192)         0           dense_1[0][0]                    \n",
            "                                                                 dense[0][0]                      \n",
            "__________________________________________________________________________________________________\n",
            "dense_2 (Dense)                 (None, 1024)         8389632     concatenate[0][0]                \n",
            "__________________________________________________________________________________________________\n",
            "dropout_5 (Dropout)             (None, 1024)         0           dense_2[0][0]                    \n",
            "__________________________________________________________________________________________________\n",
            "dense_3 (Dense)                 (None, 256)          262400      dropout_5[0][0]                  \n",
            "__________________________________________________________________________________________________\n",
            "dropout_6 (Dropout)             (None, 256)          0           dense_3[0][0]                    \n",
            "__________________________________________________________________________________________________\n",
            "dense_4 (Dense)                 (None, 20)           5140        dropout_6[0][0]                  \n",
            "==================================================================================================\n",
            "Total params: 176,481,388\n",
            "Trainable params: 176,481,388\n",
            "Non-trainable params: 0\n",
            "__________________________________________________________________________________________________\n"
          ],
          "name": "stdout"
        }
      ]
    },
    {
      "cell_type": "code",
      "metadata": {
        "id": "7X1KYt2GtBa8",
        "colab_type": "code",
        "outputId": "9b7edf8e-54e4-4a45-fddb-a06d9ed15a35",
        "colab": {
          "base_uri": "https://localhost:8080/",
          "height": 52
        }
      },
      "source": [
        "import cv2\n",
        "from tensorflow.keras import backend as K\n",
        "print(X_train[0].shape)\n",
        "\n",
        "out = model1.predict(preprocess_input(X_train))\n",
        "print(out.shape)"
      ],
      "execution_count": 43,
      "outputs": [
        {
          "output_type": "stream",
          "text": [
            "(224, 224, 3)\n",
            "(12644, 4096)\n"
          ],
          "name": "stdout"
        }
      ]
    },
    {
      "cell_type": "code",
      "metadata": {
        "id": "Wg-TG3skXxIR",
        "colab_type": "code",
        "colab": {
          "base_uri": "https://localhost:8080/",
          "height": 994
        },
        "outputId": "e89ae51a-dc6b-49d6-d2b8-e55dc53a504b"
      },
      "source": [
        "history = newModel.fit([ out, preprocess_input(X_train)], Y_train, batch_size=64, epochs=20, verbose=1)\n",
        "plt.plot(history.history['categorical_accuracy'])"
      ],
      "execution_count": 44,
      "outputs": [
        {
          "output_type": "stream",
          "text": [
            "Train on 12644 samples\n",
            "Epoch 1/20\n",
            "12644/12644 [==============================] - 24s 2ms/sample - loss: 34.9093 - categorical_accuracy: 0.1440\n",
            "Epoch 2/20\n",
            "12644/12644 [==============================] - 23s 2ms/sample - loss: 0.3620 - categorical_accuracy: 0.2273\n",
            "Epoch 3/20\n",
            "12644/12644 [==============================] - 24s 2ms/sample - loss: 0.3295 - categorical_accuracy: 0.2699\n",
            "Epoch 4/20\n",
            "12644/12644 [==============================] - 24s 2ms/sample - loss: 0.3107 - categorical_accuracy: 0.2970\n",
            "Epoch 5/20\n",
            "12644/12644 [==============================] - 24s 2ms/sample - loss: 0.2983 - categorical_accuracy: 0.3217\n",
            "Epoch 6/20\n",
            "12644/12644 [==============================] - 24s 2ms/sample - loss: 0.2885 - categorical_accuracy: 0.3404\n",
            "Epoch 7/20\n",
            "12644/12644 [==============================] - 24s 2ms/sample - loss: 0.2791 - categorical_accuracy: 0.3564\n",
            "Epoch 8/20\n",
            "12644/12644 [==============================] - 24s 2ms/sample - loss: 0.2720 - categorical_accuracy: 0.3698\n",
            "Epoch 9/20\n",
            "12644/12644 [==============================] - 24s 2ms/sample - loss: 0.2655 - categorical_accuracy: 0.3907\n",
            "Epoch 10/20\n",
            "12644/12644 [==============================] - 24s 2ms/sample - loss: 0.2563 - categorical_accuracy: 0.4055\n",
            "Epoch 11/20\n",
            "12644/12644 [==============================] - 24s 2ms/sample - loss: 0.2489 - categorical_accuracy: 0.4265\n",
            "Epoch 12/20\n",
            "12644/12644 [==============================] - 24s 2ms/sample - loss: 0.2411 - categorical_accuracy: 0.4472\n",
            "Epoch 13/20\n",
            "12644/12644 [==============================] - 24s 2ms/sample - loss: 0.2328 - categorical_accuracy: 0.4681\n",
            "Epoch 14/20\n",
            "12644/12644 [==============================] - 24s 2ms/sample - loss: 0.2257 - categorical_accuracy: 0.4964\n",
            "Epoch 15/20\n",
            "12644/12644 [==============================] - 24s 2ms/sample - loss: 0.2165 - categorical_accuracy: 0.5106\n",
            "Epoch 16/20\n",
            "12644/12644 [==============================] - 24s 2ms/sample - loss: 0.2086 - categorical_accuracy: 0.5267\n",
            "Epoch 17/20\n",
            "12644/12644 [==============================] - 24s 2ms/sample - loss: 0.2018 - categorical_accuracy: 0.5396\n",
            "Epoch 18/20\n",
            "12644/12644 [==============================] - 24s 2ms/sample - loss: 0.1944 - categorical_accuracy: 0.5593\n",
            "Epoch 19/20\n",
            "12644/12644 [==============================] - 24s 2ms/sample - loss: 0.1872 - categorical_accuracy: 0.5742\n",
            "Epoch 20/20\n",
            "12644/12644 [==============================] - 24s 2ms/sample - loss: 0.1801 - categorical_accuracy: 0.5920\n"
          ],
          "name": "stdout"
        },
        {
          "output_type": "execute_result",
          "data": {
            "text/plain": [
              "[<matplotlib.lines.Line2D at 0x7fb2fe0ae2b0>]"
            ]
          },
          "metadata": {
            "tags": []
          },
          "execution_count": 44
        },
        {
          "output_type": "display_data",
          "data": {
            "image/png": "[encoded data removed]",
            "text/plain": [
              "<Figure size 432x288 with 1 Axes>"
            ]
          },
          "metadata": {
            "tags": []
          }
        }
      ]
    },
    {
      "cell_type": "code",
      "metadata": {
        "id": "LmXxd_brtBSP",
        "colab_type": "code",
        "colab": {}
      },
      "source": [
        "newModel.save('cnn_vgg19.h5')"
      ],
      "execution_count": 0,
      "outputs": []
    },
    {
      "cell_type": "code",
      "metadata": {
        "id": "S55BLobi2chU",
        "colab_type": "code",
        "colab": {}
      },
      "source": [
        "# implementing subset accuracy\n",
        "\n",
        "def accuracy_metric( y_pred, y_data ):\n",
        "  \n",
        "  # y_pred is list of list of floats, while y_data is one hot encoded genres\n",
        "  accuracy = 0\n",
        "  \n",
        "  for i in range(len(y_pred)):\n",
        "    \n",
        "    pred_genres = y_pred[i].argsort()[-3:]                   # will return indices of top 3 predictions\n",
        "    z_pred = np.zeros(len(genres_dict))\n",
        "    z_pred[pred_genres[0]] =  1\n",
        "    z_pred[pred_genres[1]] =  1\n",
        "    z_pred[pred_genres[2]] =  1\n",
        "    \n",
        "    num = np.dot(z_pred, y_data[i])\n",
        "    denum = np.logical_or(z_pred, y_data[i]).sum()\n",
        "    accuracy += num / denum\n",
        "    \n",
        "  return accuracy / len(y_pred)"
      ],
      "execution_count": 0,
      "outputs": []
    },
    {
      "cell_type": "code",
      "metadata": {
        "id": "tglFcnpV9y4D",
        "colab_type": "code",
        "colab": {}
      },
      "source": [
        "def accuracy_2(y_true, y_pred):\n",
        "  # (y_pred intersection y_true)/(y_pred union y_true)\n",
        "  accuracy = 0\n",
        "  for i in range(len(y_pred)):\n",
        "    pred = np.rint(y_pred[i])\n",
        "    numerator = np.sum(pred * y_true[i])\n",
        "    denominator = np.logical_or(pred, y_true[i]).sum()\n",
        "    accuracy += numerator / denominator\n",
        "    \n",
        "  return accuracy / len(y_pred)"
      ],
      "execution_count": 0,
      "outputs": []
    },
    {
      "cell_type": "code",
      "metadata": {
        "id": "_tAVpIjK2cod",
        "colab_type": "code",
        "outputId": "ef81b55e-62bb-47b5-b663-002203bf88e3",
        "colab": {
          "base_uri": "https://localhost:8080/",
          "height": 106
        }
      },
      "source": [
        "# now we need to see subset accuracy on test data\n",
        "\n",
        "X_test = preprocess_input(X_test)\n",
        "out2 =  model1.predict(X_test)\n",
        "print(out2.shape)\n",
        "features = newModel.predict([out2, X_test])\n",
        "print(accuracy_2(Y_test, features))\n",
        "print(accuracy_metric(features, Y_test))\n"
      ],
      "execution_count": 48,
      "outputs": [
        {
          "output_type": "stream",
          "text": [
            "(6294, 4096)\n",
            "0.23884160273578775\n",
            "0.3049501036512436\n"
          ],
          "name": "stdout"
        },
        {
          "output_type": "execute_result",
          "data": {
            "text/plain": [
              "'\\nnp_features = np.zeros((features.shape[0],features_size))\\nfor i in range(features.shape[0]-1):\\n    feat=features[i]\\n    reshaped_feat=feat.reshape(1,-1)\\n    np_features[i]=reshaped_feat\\n\\nout = model2.predict(np.array( np_features , dtype=np.float32))\\naccuracy_metric(out, Y_test)*100\\n'"
            ]
          },
          "metadata": {
            "tags": []
          },
          "execution_count": 48
        }
      ]
    },
    {
      "cell_type": "code",
      "metadata": {
        "id": "q2mTuOLlCWLi",
        "colab_type": "code",
        "colab": {
          "base_uri": "https://localhost:8080/",
          "height": 34
        },
        "outputId": "079c2b98-9052-48cd-fb10-997f26f8c105"
      },
      "source": [
        "print(features.shape)"
      ],
      "execution_count": 57,
      "outputs": [
        {
          "output_type": "stream",
          "text": [
            "(6294, 20)\n"
          ],
          "name": "stdout"
        }
      ]
    },
    {
      "cell_type": "code",
      "metadata": {
        "id": "l-qzOlrK2clh",
        "colab_type": "code",
        "colab": {}
      },
      "source": [
        "# function to print poster with its true and predicted values\n",
        "\n",
        "import random\n",
        "from PIL import Image\n",
        "from matplotlib.pyplot import imshow\n",
        "\n",
        "% matplotlib inline\n",
        "\n",
        "def test_sample(sample):\n",
        "  \n",
        "  plt.imshow(X_test[sample])\n",
        "  \n",
        "  genre_ind = list(genres_dict.keys())\n",
        "\n",
        "  print('True Values :') \n",
        "\n",
        "  count = np.sum(Y_test[sample])\n",
        "  true_genres = Y_test[sample].argsort()[-count:]\n",
        "  l = []\n",
        "  for j in range(count):\n",
        "    l.append(genres_dict[genre_ind[true_genres[j]]])\n",
        "  l.sort()\n",
        "  print(l)\n",
        "  \n",
        "  print('Predicted Values')     \n",
        "  prediction = features[sample] \n",
        "  pred_genres = prediction.argsort()[-3:]                   # will return indices of top 3 predictions\n",
        "  \n",
        "  \n",
        "  l=[]\n",
        "  l.append(genres_dict[genre_ind[pred_genres[0]]])\n",
        "  l.append(genres_dict[genre_ind[pred_genres[1]]])\n",
        "  l.append(genres_dict[genre_ind[pred_genres[2]]])\n",
        "  l.sort()\n",
        "  print(l)\n",
        "  \n",
        "  print('-' * 40)"
      ],
      "execution_count": 0,
      "outputs": []
    },
    {
      "cell_type": "code",
      "metadata": {
        "id": "H0s8DO1hY4h5",
        "colab_type": "code",
        "colab": {
          "base_uri": "https://localhost:8080/",
          "height": 373
        },
        "outputId": "2188e4cb-0c8c-4270-919d-2e4190d39d64"
      },
      "source": [
        "test_sample(10)"
      ],
      "execution_count": 66,
      "outputs": [
        {
          "output_type": "stream",
          "text": [
            "Clipping input data to the valid range for imshow with RGB data ([0..1] for floats or [0..255] for integers).\n"
          ],
          "name": "stderr"
        },
        {
          "output_type": "stream",
          "text": [
            "True Values :\n",
            "['Horror']\n",
            "Predicted Values\n",
            "['Comedy', 'Drama', 'Romance']\n",
            "----------------------------------------\n"
          ],
          "name": "stdout"
        },
        {
          "output_type": "display_data",
          "data": {
            "image/png": "[encoded data removed]",
            "text/plain": [
              "<Figure size 432x288 with 1 Axes>"
            ]
          },
          "metadata": {
            "tags": []
          }
        }
      ]
    },
    {
      "cell_type": "code",
      "metadata": {
        "id": "HloIFjwph9d7",
        "colab_type": "code",
        "colab": {
          "base_uri": "https://localhost:8080/",
          "height": 373
        },
        "outputId": "2fc83f54-aeb8-4d6a-c044-b55f7e857159"
      },
      "source": [
        "test_sample(20)"
      ],
      "execution_count": 67,
      "outputs": [
        {
          "output_type": "stream",
          "text": [
            "Clipping input data to the valid range for imshow with RGB data ([0..1] for floats or [0..255] for integers).\n"
          ],
          "name": "stderr"
        },
        {
          "output_type": "stream",
          "text": [
            "True Values :\n",
            "['Comedy']\n",
            "Predicted Values\n",
            "['Action', 'Comedy', 'Crime']\n",
            "----------------------------------------\n"
          ],
          "name": "stdout"
        },
        {
          "output_type": "display_data",
          "data": {
            "image/png": "[encoded data removed]",
            "text/plain": [
              "<Figure size 432x288 with 1 Axes>"
            ]
          },
          "metadata": {
            "tags": []
          }
        }
      ]
    },
    {
      "cell_type": "code",
      "metadata": {
        "id": "gpUTtjM_F_cc",
        "colab_type": "code",
        "colab": {
          "base_uri": "https://localhost:8080/",
          "height": 373
        },
        "outputId": "b43a0187-aa6e-4dab-94a2-2ef5b1cffce4"
      },
      "source": [
        "test_sample(150)"
      ],
      "execution_count": 68,
      "outputs": [
        {
          "output_type": "stream",
          "text": [
            "Clipping input data to the valid range for imshow with RGB data ([0..1] for floats or [0..255] for integers).\n"
          ],
          "name": "stderr"
        },
        {
          "output_type": "stream",
          "text": [
            "True Values :\n",
            "['Drama']\n",
            "Predicted Values\n",
            "['Documentary', 'Drama', 'Horror']\n",
            "----------------------------------------\n"
          ],
          "name": "stdout"
        },
        {
          "output_type": "display_data",
          "data": {
            "image/png": "[encoded data removed]",
            "text/plain": [
              "<Figure size 432x288 with 1 Axes>"
            ]
          },
          "metadata": {
            "tags": []
          }
        }
      ]
    },
    {
      "cell_type": "code",
      "metadata": {
        "id": "5Le6rzjAF_md",
        "colab_type": "code",
        "colab": {
          "base_uri": "https://localhost:8080/",
          "height": 373
        },
        "outputId": "cb025d53-87a0-4846-e3de-58197b8fb66f"
      },
      "source": [
        "test_sample(200)"
      ],
      "execution_count": 69,
      "outputs": [
        {
          "output_type": "stream",
          "text": [
            "Clipping input data to the valid range for imshow with RGB data ([0..1] for floats or [0..255] for integers).\n"
          ],
          "name": "stderr"
        },
        {
          "output_type": "stream",
          "text": [
            "True Values :\n",
            "['Comedy', 'Crime', 'Drama', 'Foreign']\n",
            "Predicted Values\n",
            "['Comedy', 'Documentary', 'Drama']\n",
            "----------------------------------------\n"
          ],
          "name": "stdout"
        },
        {
          "output_type": "display_data",
          "data": {
            "image/png": "[encoded data removed]",
            "text/plain": [
              "<Figure size 432x288 with 1 Axes>"
            ]
          },
          "metadata": {
            "tags": []
          }
        }
      ]
    },
    {
      "cell_type": "code",
      "metadata": {
        "id": "Xjo28uanF_vP",
        "colab_type": "code",
        "colab": {
          "base_uri": "https://localhost:8080/",
          "height": 373
        },
        "outputId": "00a32608-5c4e-4bf2-c4c1-c85027fb1d30"
      },
      "source": [
        "test_sample(1000)"
      ],
      "execution_count": 70,
      "outputs": [
        {
          "output_type": "stream",
          "text": [
            "Clipping input data to the valid range for imshow with RGB data ([0..1] for floats or [0..255] for integers).\n"
          ],
          "name": "stderr"
        },
        {
          "output_type": "stream",
          "text": [
            "True Values :\n",
            "['Horror', 'Science Fiction']\n",
            "Predicted Values\n",
            "['Action', 'Comedy', 'Drama']\n",
            "----------------------------------------\n"
          ],
          "name": "stdout"
        },
        {
          "output_type": "display_data",
          "data": {
            "image/png": "[encoded data removed]",
            "text/plain": [
              "<Figure size 432x288 with 1 Axes>"
            ]
          },
          "metadata": {
            "tags": []
          }
        }
      ]
    }
  ]
}